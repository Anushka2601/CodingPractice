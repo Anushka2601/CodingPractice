{
 "cells": [
  {
   "cell_type": "code",
   "execution_count": 2,
   "id": "2b6f77ec-bfb8-475e-9e4b-0b1c7f5520de",
   "metadata": {},
   "outputs": [
    {
     "name": "stdout",
     "output_type": "stream",
     "text": [
      "3\n"
     ]
    }
   ],
   "source": [
    "num=153 \n",
    "count=0\n",
    "while(num>0):\n",
    "    count+=1\n",
    "    num=num//10\n",
    "print(count)\n",
    "    "
   ]
  },
  {
   "cell_type": "code",
   "execution_count": 4,
   "id": "1a5a21fb-3509-47eb-9464-0d6ad2145536",
   "metadata": {},
   "outputs": [
    {
     "name": "stdout",
     "output_type": "stream",
     "text": [
      "351\n"
     ]
    }
   ],
   "source": [
    "#reverse number \n",
    "\n",
    "num=153 \n",
    "rev=0\n",
    "while(num>0):\n",
    "    rem=num%10\n",
    "    rev=rev*10+rem \n",
    "    num=num//10\n",
    "print(rev)\n",
    "    "
   ]
  },
  {
   "cell_type": "code",
   "execution_count": 6,
   "id": "616aff3e-8228-4147-8ff6-4dd6f48dd5cf",
   "metadata": {},
   "outputs": [
    {
     "name": "stdout",
     "output_type": "stream",
     "text": [
      "armstrong\n"
     ]
    }
   ],
   "source": [
    "#armstrong number \n",
    "\n",
    "num=153 \n",
    "temp=num \n",
    "count=len(str(num))\n",
    "sum=0\n",
    "while(num>0):\n",
    "    rem=num%10\n",
    "    sum+=pow(rem,count)\n",
    "    num=num//10\n",
    "\n",
    "if temp==sum:\n",
    "    print(\"armstrong\")\n",
    "else:\n",
    "    print(\"not armstrong\")\n",
    "    \n",
    "\n"
   ]
  },
  {
   "cell_type": "code",
   "execution_count": 13,
   "id": "8951b2b0-3d0c-4da1-a0c4-fc3fa7504e5f",
   "metadata": {},
   "outputs": [
    {
     "name": "stdout",
     "output_type": "stream",
     "text": [
      "[23, 45, 54, 78, 96]\n",
      "78\n"
     ]
    }
   ],
   "source": [
    "l=[45,78,96,54,23]\n",
    "l1=sorted(l)\n",
    "print(l1)\n",
    "print(l1[-2])\n"
   ]
  },
  {
   "cell_type": "code",
   "execution_count": null,
   "id": "7a593d8b-2ae1-4128-a623-0e83d9893eea",
   "metadata": {},
   "outputs": [],
   "source": []
  },
  {
   "cell_type": "code",
   "execution_count": null,
   "id": "119d5f41-01d6-4127-90e2-6dcdbd2ee344",
   "metadata": {},
   "outputs": [],
   "source": []
  }
 ],
 "metadata": {
  "kernelspec": {
   "display_name": "Python 3 (ipykernel)",
   "language": "python",
   "name": "python3"
  },
  "language_info": {
   "codemirror_mode": {
    "name": "ipython",
    "version": 3
   },
   "file_extension": ".py",
   "mimetype": "text/x-python",
   "name": "python",
   "nbconvert_exporter": "python",
   "pygments_lexer": "ipython3",
   "version": "3.11.7"
  }
 },
 "nbformat": 4,
 "nbformat_minor": 5
}
