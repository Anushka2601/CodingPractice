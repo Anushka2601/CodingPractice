{
 "cells": [
  {
   "cell_type": "code",
   "execution_count": 5,
   "id": "3f541599-3688-4a7d-abf4-17c9f21b67cc",
   "metadata": {},
   "outputs": [
    {
     "name": "stdout",
     "output_type": "stream",
     "text": [
      "['a', 'a', 'u', 'a']\n",
      "['a', 'n', 'u', 's', 'h', 'k', ' ', 't', 'd', 'e']\n"
     ]
    }
   ],
   "source": [
    "# print the duplicate elements from a string \n",
    "\n",
    "str1=\"anushka autade\"\n",
    "uni=[]\n",
    "rep=[]\n",
    "\n",
    "for i in str1:\n",
    "    if i not in uni:\n",
    "        uni.append(i)\n",
    "    else:\n",
    "        rep.append(i)\n",
    "print(rep)\n",
    "print(uni)"
   ]
  },
  {
   "cell_type": "code",
   "execution_count": 8,
   "id": "7795f08e-fcf6-482e-88f5-3ea4d7fbc96b",
   "metadata": {},
   "outputs": [
    {
     "name": "stdout",
     "output_type": "stream",
     "text": [
      "Anushka tde\n"
     ]
    }
   ],
   "source": [
    "#without using list \n",
    "#i.e. only using string \n",
    "\n",
    "str1=\"Anushka Autade\" \n",
    "str2=\"\"\n",
    "for i in str1:\n",
    "    if i not in str2:\n",
    "        str2=str2+i\n",
    "print(str2)\n",
    "    "
   ]
  },
  {
   "cell_type": "code",
   "execution_count": 9,
   "id": "df6483f7-04fb-4e5e-b49c-632cfc5a3583",
   "metadata": {},
   "outputs": [
    {
     "name": "stdout",
     "output_type": "stream",
     "text": [
      "Anushka tde\n"
     ]
    }
   ],
   "source": [
    "print(str2)"
   ]
  },
  {
   "cell_type": "code",
   "execution_count": 10,
   "id": "66214f72-87f6-4e4a-957b-3d6df3baf91b",
   "metadata": {},
   "outputs": [
    {
     "data": {
      "text/plain": [
       "'Anushkatde'"
      ]
     },
     "execution_count": 10,
     "metadata": {},
     "output_type": "execute_result"
    }
   ],
   "source": [
    "str2.replace(\" \",\"\")"
   ]
  },
  {
   "cell_type": "code",
   "execution_count": 11,
   "id": "95c85757-1f65-4f8b-b216-8a4ebc837d8c",
   "metadata": {},
   "outputs": [
    {
     "data": {
      "text/plain": [
       "False"
      ]
     },
     "execution_count": 11,
     "metadata": {},
     "output_type": "execute_result"
    }
   ],
   "source": [
    "str2.isdigit()"
   ]
  },
  {
   "cell_type": "code",
   "execution_count": 12,
   "id": "73d09a09-0a64-48c5-a721-8b6d3d4ffd41",
   "metadata": {},
   "outputs": [
    {
     "data": {
      "text/plain": [
       "False"
      ]
     },
     "execution_count": 12,
     "metadata": {},
     "output_type": "execute_result"
    }
   ],
   "source": [
    "str2.isupper()"
   ]
  },
  {
   "cell_type": "code",
   "execution_count": 13,
   "id": "e6b17adc-49cd-4124-a9df-a242b532d915",
   "metadata": {},
   "outputs": [
    {
     "data": {
      "text/plain": [
       "False"
      ]
     },
     "execution_count": 13,
     "metadata": {},
     "output_type": "execute_result"
    }
   ],
   "source": [
    "str2.istitle()"
   ]
  },
  {
   "cell_type": "code",
   "execution_count": 17,
   "id": "fb65aa53-dc99-4a23-83cf-8a251b7c9fa7",
   "metadata": {},
   "outputs": [
    {
     "data": {
      "text/plain": [
       "False"
      ]
     },
     "execution_count": 17,
     "metadata": {},
     "output_type": "execute_result"
    }
   ],
   "source": [
    "str1.isalpha()"
   ]
  },
  {
   "cell_type": "code",
   "execution_count": 15,
   "id": "cbf2718f-703d-4c53-b16f-2fab3ec79cad",
   "metadata": {},
   "outputs": [
    {
     "data": {
      "text/plain": [
       "'aNUSHKA TDE'"
      ]
     },
     "execution_count": 15,
     "metadata": {},
     "output_type": "execute_result"
    }
   ],
   "source": [
    "str2.swapcase()"
   ]
  },
  {
   "cell_type": "code",
   "execution_count": 20,
   "id": "4a054aad-0377-4a83-9b67-4ca5ef44d121",
   "metadata": {},
   "outputs": [
    {
     "name": "stdout",
     "output_type": "stream",
     "text": [
      "True\n",
      "True\n",
      "True\n",
      "True\n",
      "True\n",
      "True\n",
      "True\n",
      "True\n",
      "True\n",
      "True\n",
      "True\n",
      "True\n",
      "True\n",
      "True\n"
     ]
    }
   ],
   "source": [
    "str1=\"anushka autade\"\n",
    "for i in str1:\n",
    "    print(i.isalpha() or i.isspace())"
   ]
  },
  {
   "cell_type": "code",
   "execution_count": 3,
   "id": "4219caf7-193b-4a61-a3d2-2ea1cc9adfb3",
   "metadata": {},
   "outputs": [
    {
     "name": "stdout",
     "output_type": "stream",
     "text": [
      "akhsuna\n"
     ]
    }
   ],
   "source": [
    "str1=\"anushka\"\n",
    "str2=''\n",
    "for i in range(len(str1)-1,-1,-1):\n",
    "    str2=str2+str1[i]\n",
    "print(str2)"
   ]
  },
  {
   "cell_type": "code",
   "execution_count": 4,
   "id": "7824589b-c744-404d-b349-5b36610aa4b0",
   "metadata": {},
   "outputs": [],
   "source": [
    "#print all the digit of a number 268 on each line "
   ]
  },
  {
   "cell_type": "code",
   "execution_count": 8,
   "id": "d4038bc7-f6d7-4071-9f7d-b5ebfafd983a",
   "metadata": {},
   "outputs": [
    {
     "name": "stdout",
     "output_type": "stream",
     "text": [
      "8\n",
      "6\n",
      "2\n"
     ]
    }
   ],
   "source": [
    "n=268 \n",
    "while(n!=0):\n",
    "    rem=n%10\n",
    "    n=n//10\n",
    "    print(rem)"
   ]
  },
  {
   "cell_type": "code",
   "execution_count": 10,
   "id": "88d3b4fd-9e9d-46e4-90e9-3947915b875d",
   "metadata": {},
   "outputs": [
    {
     "name": "stdout",
     "output_type": "stream",
     "text": [
      "not palindrome\n"
     ]
    }
   ],
   "source": [
    "#palindrome number \n",
    "\n",
    "n=153\n",
    "temp=n\n",
    "rev=0\n",
    "while(n!=0):\n",
    "    rem=n%10\n",
    "    rev=rev*10+rem \n",
    "    n=n//10 \n",
    "\n",
    "if rev==temp:\n",
    "    print(\"n is palindrome\")\n",
    "else:\n",
    "    print(\"not palindrome\")\n",
    "    "
   ]
  },
  {
   "cell_type": "code",
   "execution_count": 15,
   "id": "1528a4ee-6fd7-48ba-a3cf-5d79d5379642",
   "metadata": {},
   "outputs": [
    {
     "name": "stdout",
     "output_type": "stream",
     "text": [
      "spy number\n"
     ]
    }
   ],
   "source": [
    "# spy numbers \n",
    "# if the sum of it's digit is equal to the product of it's digit \n",
    "n=123\n",
    "suma=0 \n",
    "prod=1\n",
    "while(n!=0):\n",
    "    rem=n%10\n",
    "    suma+=rem\n",
    "    prod*=rem\n",
    "    n=n//10\n",
    "if suma==prod:\n",
    "    print(\"spy number\")\n",
    "else:\n",
    "    print(\"not a spy number\")\n"
   ]
  },
  {
   "cell_type": "code",
   "execution_count": 20,
   "id": "d6cd4bd2-87e8-4eaa-836a-61c2b0154a5e",
   "metadata": {},
   "outputs": [
    {
     "name": "stdout",
     "output_type": "stream",
     "text": [
      "special number\n"
     ]
    }
   ],
   "source": [
    "#check whether given number is special or not \n",
    "# special number is a number whose sum of digit + product of digit is equal to given number \n",
    "#eg. 59=5+9+5*9\n",
    "\n",
    "n=59\n",
    "temp=n\n",
    "suma=0\n",
    "prod=1\n",
    "num=0\n",
    "while(n!=0):\n",
    "    rem=n%10\n",
    "    suma=suma+rem\n",
    "    prod=prod*rem\n",
    "    n=n//10\n",
    "    number=suma+prod\n",
    "if temp==number:\n",
    "    print(\"special number\")\n",
    "else:\n",
    "    print(\"comman number\")\n",
    "    "
   ]
  },
  {
   "cell_type": "code",
   "execution_count": 24,
   "id": "d6a7acb8-baec-4883-9067-2110d2428b3e",
   "metadata": {},
   "outputs": [
    {
     "name": "stdout",
     "output_type": "stream",
     "text": [
      "sp number\n"
     ]
    }
   ],
   "source": [
    "# a number which is divisible by  sum of it's digit's \n",
    "\n",
    "n=156\n",
    "suma=0\n",
    "temp=n\n",
    "\n",
    "while(n!=0):\n",
    "    rem=n%10\n",
    "    suma=suma+rem \n",
    "    n=n//10\n",
    "if temp%suma==0:\n",
    "    print(\"sp number\")\n",
    "else:\n",
    "    print(\"comman number\")"
   ]
  },
  {
   "cell_type": "code",
   "execution_count": 33,
   "id": "9c18ab93-3d3e-4b8d-8a32-e8865112d069",
   "metadata": {},
   "outputs": [
    {
     "name": "stdout",
     "output_type": "stream",
     "text": [
      "duck number\n"
     ]
    }
   ],
   "source": [
    "# check whether the number is duck number  or not \n",
    "# number which contains zero is known as duck number \n",
    "\n",
    "\n",
    "n=205\n",
    "count=0\n",
    "while(n!=0):\n",
    "    rem=n%10\n",
    "    if rem==0:\n",
    "        count=count+1\n",
    "    n=n//10\n",
    "\n",
    "if count>0:\n",
    "    print(\"duck number\")\n",
    "else:\n",
    "    print(\"not a duck number\")\n",
    "    "
   ]
  },
  {
   "cell_type": "code",
   "execution_count": 34,
   "id": "88f99728-386e-4d5e-807d-2751be2a6a74",
   "metadata": {},
   "outputs": [],
   "source": [
    "# neon number \n",
    "# where sum of the digit of squre of the number is equal to the number \n",
    "# e.g. 9..... 9*9=81 and 8+1=9 \n"
   ]
  },
  {
   "cell_type": "code",
   "execution_count": 46,
   "id": "8eccd3ac-9cb1-4430-8ae6-a063c5224d48",
   "metadata": {},
   "outputs": [
    {
     "name": "stdout",
     "output_type": "stream",
     "text": [
      "No\n"
     ]
    }
   ],
   "source": [
    "#sum of factorial of digit is equal to the number \n",
    "\n",
    "n=145 \n",
    "temp=n\n",
    "while(n!=0):\n",
    "    rem=n%10\n",
    "   \n",
    "    fact=1\n",
    "    suma=0\n",
    "    for i in range(1,rem+1,1):\n",
    "        fact=fact*i\n",
    "        suma=suma+fact\n",
    "    n=n//10 \n",
    "\n",
    "if suma==temp:\n",
    "    print(\"yes\")\n",
    "else:\n",
    "    print(\"No\")\n",
    "    "
   ]
  },
  {
   "cell_type": "code",
   "execution_count": 25,
   "id": "61bd6593-917d-4381-931b-6407ca5a9ad5",
   "metadata": {},
   "outputs": [
    {
     "name": "stdout",
     "output_type": "stream",
     "text": [
      "yes\n"
     ]
    }
   ],
   "source": [
    "n=145\n",
    "temp=n\n",
    "suma=0\n",
    "while(n!=0):\n",
    "    rem=n%10\n",
    "    \n",
    "    fact=1\n",
    "    \n",
    "    for i in range(1,rem+1):\n",
    "        fact*=i \n",
    "    suma+=fact\n",
    "    n=n//10\n",
    "    \n",
    "if suma==temp:\n",
    "    print(\"yes\")\n",
    "else:\n",
    "    print(\"No\")\n",
    "    "
   ]
  },
  {
   "cell_type": "code",
   "execution_count": 28,
   "id": "b7f8da79-3f28-42d7-9f25-18a4733aac6f",
   "metadata": {},
   "outputs": [
    {
     "name": "stdout",
     "output_type": "stream",
     "text": [
      "Yes\n"
     ]
    }
   ],
   "source": [
    "n=145 \n",
    "temp=n\n",
    "final_sum=0\n",
    "while n!=0:\n",
    "    rem=n%10\n",
    "    fact=1\n",
    "    for i in range(rem,0,-1):\n",
    "        fact*=i\n",
    "    final_sum+=fact \n",
    "    n=n//10\n",
    "if final_sum==temp:\n",
    "    print(\"Yes\")\n",
    "else:\n",
    "    print(\"No\")\n",
    "    "
   ]
  },
  {
   "cell_type": "code",
   "execution_count": 6,
   "id": "c5f86679-c4d9-41a0-8987-44ecae5ab2ec",
   "metadata": {},
   "outputs": [
    {
     "name": "stdout",
     "output_type": "stream",
     "text": [
      "E\n",
      "H\n"
     ]
    }
   ],
   "source": [
    "#string programs\n",
    "\n",
    "#print each character of string in new line \n",
    "str1=\"hEHllo\"\n",
    "for i in str1:\n",
    "    if i.isupper():\n",
    "        print(i)\n",
    "\n"
   ]
  },
  {
   "cell_type": "code",
   "execution_count": 10,
   "id": "613e19b5-f27a-4b6c-a64e-c51c8f332c54",
   "metadata": {},
   "outputs": [
    {
     "name": "stdout",
     "output_type": "stream",
     "text": [
      "3\n",
      "2\n"
     ]
    }
   ],
   "source": [
    "#count only uppercase letters in a string \n",
    "\n",
    "str1=\"HeLLo\"\n",
    "countup=0\n",
    "countlo=0\n",
    "for i in str1:\n",
    "    if i.isupper():\n",
    "        countup=countup+1\n",
    "    elif i.islower():\n",
    "        countlo=countlo+1\n",
    "print(countup)\n",
    "print(countlo)"
   ]
  },
  {
   "cell_type": "code",
   "execution_count": 11,
   "id": "dadff69f-46a2-413f-af5a-c70e373369c0",
   "metadata": {},
   "outputs": [
    {
     "name": "stdout",
     "output_type": "stream",
     "text": [
      "IS\n"
     ]
    }
   ],
   "source": [
    "#create a new string only containing the uppercase letters from a string \n",
    "str1=\"Its Simple\"\n",
    "\n",
    "str2=\"\"\n",
    "for i in str1:\n",
    "    if i.isupper():\n",
    "        str2=str2+i\n",
    "print(str2)\n"
   ]
  },
  {
   "cell_type": "code",
   "execution_count": 15,
   "id": "619213b5-1101-4de0-bcb2-3b230d2bd003",
   "metadata": {},
   "outputs": [
    {
     "name": "stdout",
     "output_type": "stream",
     "text": [
      "26 NOSound\n"
     ]
    }
   ],
   "source": [
    "#create a new string with it's digit first and after that characters \n",
    "\n",
    "str1=\"NO26 Sound\"\n",
    "str2=\"\"\n",
    "str3=\"\"\n",
    "\n",
    "for i in str1:\n",
    "    if i.isdigit():\n",
    "        str2=str2+i\n",
    "    elif i.isalpha():\n",
    "        str3=str3+i\n",
    "print(str2,str3)"
   ]
  },
  {
   "cell_type": "code",
   "execution_count": 18,
   "id": "8b3c0016-a8f5-44a9-9d2d-0feb85fdb2f7",
   "metadata": {},
   "outputs": [
    {
     "name": "stdout",
     "output_type": "stream",
     "text": [
      "no26sound\n"
     ]
    }
   ],
   "source": [
    "#create a string after removing all the spaces from it \n",
    "\n",
    "str1=\"no26 sound\"\n",
    "for i in str1:\n",
    "   if  i.isspace():\n",
    "       print(str1.replace(\" \",\"\"))\n"
   ]
  },
  {
   "cell_type": "code",
   "execution_count": 19,
   "id": "97979f0d-5309-42eb-bcf9-ed6a2f182fa1",
   "metadata": {},
   "outputs": [
    {
     "name": "stdout",
     "output_type": "stream",
     "text": [
      "no sOUND\n"
     ]
    }
   ],
   "source": [
    "#write a program to reverse the case of a string \n",
    "\n",
    "str1=\"NO Sound\"\n",
    "print(str1.swapcase())\n",
    "\n"
   ]
  },
  {
   "cell_type": "code",
   "execution_count": 23,
   "id": "ac35d6cd-c8b3-42cd-97ef-4b4e48b7f1ec",
   "metadata": {},
   "outputs": [
    {
     "name": "stdout",
     "output_type": "stream",
     "text": [
      "dnuoSHON\n"
     ]
    }
   ],
   "source": [
    "# find a reverse of string \n",
    "str1=\"NOHSound\"\n",
    "rev=\"\"\n",
    "for i in range(len(str1)-1,-1,-1):\n",
    "    rev=rev+str1[i]\n",
    "print(rev)"
   ]
  },
  {
   "cell_type": "code",
   "execution_count": 24,
   "id": "6810fd45-3c0f-4b5d-878a-46932a719cae",
   "metadata": {},
   "outputs": [
    {
     "name": "stdout",
     "output_type": "stream",
     "text": [
      "In\n",
      "the\n",
      "top\n"
     ]
    }
   ],
   "source": [
    "# print the separate word in a sentence in a new line \n",
    "\n",
    "str1=\"In the top\"\n",
    "l=str1.split(\" \")\n",
    "for i in l:\n",
    "    print(i)"
   ]
  },
  {
   "cell_type": "code",
   "execution_count": 27,
   "id": "dac033c9-3328-4401-8211-c7a6769b6a0d",
   "metadata": {},
   "outputs": [
    {
     "name": "stdout",
     "output_type": "stream",
     "text": [
      "RED\n"
     ]
    }
   ],
   "source": [
    "#print only the letters starts with R \n",
    "str1=\"A RED SEED\"\n",
    "\n",
    "l=str1.split(\" \")\n",
    "for i in l:\n",
    "    if i.startswith(\"R\"):\n",
    "        print(i)"
   ]
  },
  {
   "cell_type": "code",
   "execution_count": 29,
   "id": "8bc617bd-ff42-4da0-9331-69482bb7d082",
   "metadata": {},
   "outputs": [
    {
     "name": "stdout",
     "output_type": "stream",
     "text": [
      "RED\n",
      "SEED\n"
     ]
    }
   ],
   "source": [
    "# print the words ends with ed\n",
    "\n",
    "for i in l:\n",
    "    if i.endswith(\"ED\"):\n",
    "        print(i)"
   ]
  },
  {
   "cell_type": "code",
   "execution_count": 33,
   "id": "910d64a3-2722-4f41-8eca-0b8db60df489",
   "metadata": {},
   "outputs": [
    {
     "name": "stdout",
     "output_type": "stream",
     "text": [
      "RED\n",
      "SEED\n"
     ]
    }
   ],
   "source": [
    "# prints the words which contains e \n",
    "for i in l:\n",
    "    if \"E\" in i:\n",
    "        print(i)"
   ]
  },
  {
   "cell_type": "code",
   "execution_count": 34,
   "id": "c26ee233-cc1a-4f4f-aff9-7b9843479e51",
   "metadata": {},
   "outputs": [
    {
     "name": "stdout",
     "output_type": "stream",
     "text": [
      "RED\n"
     ]
    }
   ],
   "source": [
    "# print the words with length 3 \n",
    "\n",
    "for i in l:\n",
    "    if len(i)==3:\n",
    "        print(i)\n",
    "\n",
    "\n"
   ]
  },
  {
   "cell_type": "code",
   "execution_count": 35,
   "id": "2c51fbce-4474-49a8-afd7-a4bda0e55001",
   "metadata": {},
   "outputs": [
    {
     "name": "stdout",
     "output_type": "stream",
     "text": [
      "mom\n",
      "dad\n"
     ]
    }
   ],
   "source": [
    "# print all the special word \n",
    "#e.g. Anna ,bob \n",
    "\n",
    "str1=\"mom or dad\"\n",
    "l=str1.split(\" \")\n",
    "for i in l:\n",
    "    if i[0]==i[len(i)-1]:\n",
    "        print(i)"
   ]
  },
  {
   "cell_type": "code",
   "execution_count": 38,
   "id": "bdedeee5-a5d8-4082-ae70-d4877c6fcc02",
   "metadata": {},
   "outputs": [
    {
     "name": "stdout",
     "output_type": "stream",
     "text": [
      "SEED\n"
     ]
    }
   ],
   "source": [
    "#find the longest word from string \n",
    "str1=\"a RED SEED\"\n",
    "l=str1.split(\" \")\n",
    "l2=[]\n",
    "for i in l:\n",
    "    l2.append(len(i))\n",
    "if len(i)==max(l2):\n",
    "    print(i)\n",
    "    "
   ]
  },
  {
   "cell_type": "code",
   "execution_count": 39,
   "id": "61e31e8f-f15c-4d38-9ecf-ea81f4da73a7",
   "metadata": {},
   "outputs": [
    {
     "name": "stdout",
     "output_type": "stream",
     "text": [
      "3\n"
     ]
    }
   ],
   "source": [
    "#count number of words in a string \n",
    "\n",
    "print(len(l))\n"
   ]
  },
  {
   "cell_type": "code",
   "execution_count": 40,
   "id": "21d49619-b242-4015-b4b9-efd9c8d98266",
   "metadata": {},
   "outputs": [
    {
     "name": "stdout",
     "output_type": "stream",
     "text": [
      "2\n"
     ]
    }
   ],
   "source": [
    "# if ends with d then count how many words are there \n",
    "str1=\"a red seed \"\n",
    "l=str1.split(\" \")\n",
    "cnt=0\n",
    "for i in l:\n",
    "    if i.endswith(\"d\"):\n",
    "        cnt=cnt+1 \n",
    "print(cnt)"
   ]
  },
  {
   "cell_type": "code",
   "execution_count": 42,
   "id": "a0f54c57-0b26-416e-a63a-3b1ccad60a85",
   "metadata": {},
   "outputs": [
    {
     "name": "stdout",
     "output_type": "stream",
     "text": [
      "a blue seed\n"
     ]
    }
   ],
   "source": [
    "#change red with blue word \n",
    "\n",
    "str1=\"a red seed\"\n",
    "l=str1.split(\" \")\n",
    "str2=\"\"\n",
    "for i in l:\n",
    "    l[1]=\"blue\"\n",
    "    str2=\" \".join(l)\n",
    "print(str2)\n",
    "    "
   ]
  },
  {
   "cell_type": "code",
   "execution_count": 44,
   "id": "24cf2b93-fda1-497a-89ff-c2733124ad42",
   "metadata": {},
   "outputs": [
    {
     "name": "stdout",
     "output_type": "stream",
     "text": [
      "a seed\n"
     ]
    }
   ],
   "source": [
    "# delete the word red and print the statement\n",
    "\n",
    "str1=\"a red seed\"\n",
    "l=str1.split(\" \")\n",
    "str2=\"\"\n",
    "for i in l:\n",
    "    if i==\"red\":\n",
    "        l.remove(i)\n",
    "        str2=\" \".join(l)\n",
    "print(str2)"
   ]
  },
  {
   "cell_type": "code",
   "execution_count": null,
   "id": "6ead8d2f-06e0-4000-8475-660615867b34",
   "metadata": {},
   "outputs": [],
   "source": []
  },
  {
   "cell_type": "code",
   "execution_count": 47,
   "id": "b5a5e1ab-058e-405d-a38d-6407d496e01f",
   "metadata": {},
   "outputs": [
    {
     "name": "stdout",
     "output_type": "stream",
     "text": [
      "1\n",
      "2\n",
      "4\n",
      "8\n"
     ]
    }
   ],
   "source": [
    "#find a factors of number \n",
    "n=8 \n",
    "\n",
    "for i in range(1,n+1):\n",
    "    if n%i==0:\n",
    "        print(i)"
   ]
  },
  {
   "cell_type": "code",
   "execution_count": 50,
   "id": "b807634c-6537-4655-a4ad-588343db23bf",
   "metadata": {},
   "outputs": [
    {
     "name": "stdin",
     "output_type": "stream",
     "text": [
      "enter any number 10\n"
     ]
    }
   ],
   "source": [
    "#number is prime or not \n",
    "\n",
    "n=int(input(\"enter any number\"))\n"
   ]
  },
  {
   "cell_type": "code",
   "execution_count": 51,
   "id": "1e83cd25-fb59-40f5-9f91-622c53038850",
   "metadata": {},
   "outputs": [
    {
     "name": "stdout",
     "output_type": "stream",
     "text": [
      "not prime\n"
     ]
    }
   ],
   "source": [
    "cnt=0 \n",
    "for i in range(2,n):\n",
    "    if n%i==0:\n",
    "        cnt=cnt+1 \n",
    "if cnt>0:\n",
    "    print(\"not prime\")\n",
    "else:\n",
    "    print(\"prime\")"
   ]
  },
  {
   "cell_type": "code",
   "execution_count": 54,
   "id": "fb434d3d-2198-47f5-aeaa-3e7e39f05fd1",
   "metadata": {},
   "outputs": [
    {
     "name": "stdin",
     "output_type": "stream",
     "text": [
      " 13\n"
     ]
    }
   ],
   "source": [
    "# composite number\n",
    "num=int(input())"
   ]
  },
  {
   "cell_type": "code",
   "execution_count": 56,
   "id": "8e8c5867-b1f0-4062-a680-15f4f8edd6c2",
   "metadata": {},
   "outputs": [
    {
     "name": "stdout",
     "output_type": "stream",
     "text": [
      "not composite number\n"
     ]
    }
   ],
   "source": [
    "\n",
    "cnt=0\n",
    "for i in range(1,num+1):\n",
    "    if num%i==0:\n",
    "        cnt=cnt+1 \n",
    "if cnt>2:\n",
    "    print(\"composite number\")\n",
    "else:\n",
    "    print(\"not composite number\")\n",
    "        "
   ]
  },
  {
   "cell_type": "code",
   "execution_count": 59,
   "id": "32f52c85-62ac-4372-b248-9023542a65c2",
   "metadata": {},
   "outputs": [
    {
     "name": "stdout",
     "output_type": "stream",
     "text": [
      "perfect number\n"
     ]
    }
   ],
   "source": [
    "#perfect number\n",
    "# a perfect number is a sum of it's factors except itself \n",
    "n=6\n",
    "temp=n\n",
    "suma=0\n",
    "for i in range(1,n):\n",
    "    if n%i==0:\n",
    "        suma+=i\n",
    "if suma==temp:\n",
    "    print(\"perfect number\")\n",
    "else:\n",
    "    print(\"not perfect\")\n",
    "\n",
    "        "
   ]
  },
  {
   "cell_type": "code",
   "execution_count": 74,
   "id": "2325f9d8-4701-4e30-b7ae-18693080de94",
   "metadata": {},
   "outputs": [
    {
     "name": "stdout",
     "output_type": "stream",
     "text": [
      "12\n",
      "not abundant\n"
     ]
    }
   ],
   "source": [
    "#find a number is abudant or not \n",
    "#abudant number -sum of factors of a number is greator than the number(do not count number while calculating it's factors)\n",
    "\n",
    "num=12 \n",
    "temp=num\n",
    "suma=0\n",
    "for i in range(1,num):\n",
    "    if n%i==0:\n",
    "        suma+=i\n",
    "print(suma)\n",
    "if suma>num:\n",
    "   print(\"abundant\")\n",
    "else:\n",
    "    print(\"not abundant\")\n"
   ]
  },
  {
   "cell_type": "code",
   "execution_count": 1,
   "id": "cc94f3dc-ae2f-4e5e-ad7a-2963319a1fe5",
   "metadata": {},
   "outputs": [
    {
     "name": "stdin",
     "output_type": "stream",
     "text": [
      "enter any number  15\n"
     ]
    },
    {
     "name": "stdout",
     "output_type": "stream",
     "text": [
      "120\n"
     ]
    }
   ],
   "source": [
    "# arithmatic series \n",
    "# print the sum of arithmetic series\n",
    "\n",
    "\n",
    "#1+2+3+4+5+....+n \n",
    "\n",
    "n=int(input(\"enter any number \"))\n",
    "suma=0\n",
    "for i in range(1,n+1):\n",
    "    suma=suma+i\n",
    "print(suma)"
   ]
  },
  {
   "cell_type": "code",
   "execution_count": 5,
   "id": "0c20b34c-8d66-4801-976d-30237d40cc50",
   "metadata": {},
   "outputs": [
    {
     "name": "stdin",
     "output_type": "stream",
     "text": [
      "enter any number  15\n"
     ]
    },
    {
     "name": "stdout",
     "output_type": "stream",
     "text": [
      "28\n"
     ]
    }
   ],
   "source": [
    "#9,13,17,.....,N\n",
    "\n",
    "n=int(input(\"enter any number \"))\n",
    "suma=0\n",
    "for i in range(1,n+1,4):\n",
    "    suma=suma+i\n",
    "    #print(i)\n",
    "print(suma)"
   ]
  },
  {
   "cell_type": "code",
   "execution_count": 7,
   "id": "d94b6c73-9af3-4a35-a7bb-ed060f0773db",
   "metadata": {},
   "outputs": [
    {
     "name": "stdin",
     "output_type": "stream",
     "text": [
      "enter any number  20\n"
     ]
    },
    {
     "name": "stdout",
     "output_type": "stream",
     "text": [
      "2\n",
      "4\n",
      "6\n",
      "8\n",
      "10\n",
      "12\n",
      "14\n",
      "16\n",
      "18\n",
      "20\n",
      "110\n"
     ]
    }
   ],
   "source": [
    "#2,4,6,8.....,N\n",
    "\n",
    "n=int(input(\"enter any number \"))\n",
    "suma=0\n",
    "for i in range(2,n+1,2):\n",
    "    suma=suma+i\n",
    "    print(i)\n",
    "print(suma)"
   ]
  },
  {
   "cell_type": "code",
   "execution_count": 9,
   "id": "66fc75e5-12a5-4525-a42b-94253daba8b7",
   "metadata": {},
   "outputs": [
    {
     "name": "stdin",
     "output_type": "stream",
     "text": [
      "enter any number  15\n"
     ]
    },
    {
     "name": "stdout",
     "output_type": "stream",
     "text": [
      "64\n"
     ]
    }
   ],
   "source": [
    "#1,3,5,7.....,N\n",
    "\n",
    "n=int(input(\"enter any number \"))\n",
    "suma=0\n",
    "for i in range(1,n+1,2):\n",
    "    suma=suma+i\n",
    "    #print(i)\n",
    "print(suma)"
   ]
  },
  {
   "cell_type": "code",
   "execution_count": 12,
   "id": "c8111d09-b17a-4c65-83c6-c1911f3a8f87",
   "metadata": {},
   "outputs": [
    {
     "name": "stdin",
     "output_type": "stream",
     "text": [
      "enter any number  10\n"
     ]
    },
    {
     "name": "stdout",
     "output_type": "stream",
     "text": [
      "10\n",
      "9\n",
      "8\n",
      "7\n",
      "6\n",
      "5\n",
      "4\n",
      "3\n",
      "2\n",
      "1\n",
      "55\n"
     ]
    }
   ],
   "source": [
    "#10,9,8,7.....,1\n",
    "\n",
    "n=int(input(\"enter any number \"))\n",
    "suma=0\n",
    "for i in range(n,0,-1):\n",
    "    suma=suma+i\n",
    "    #print(i)\n",
    "print(suma)"
   ]
  },
  {
   "cell_type": "code",
   "execution_count": 13,
   "id": "184c1e96-7dbc-4472-8582-55953fe51910",
   "metadata": {},
   "outputs": [
    {
     "name": "stdout",
     "output_type": "stream",
     "text": [
      "2046\n"
     ]
    }
   ],
   "source": [
    "#geometric series \n",
    "\n",
    "#x^1+x^2+..............+x^n\n",
    "\n",
    "x=2\n",
    "n=10\n",
    "sum=0\n",
    "for i in range(1,n+1):\n",
    "    sum=sum+pow(x,i)\n",
    "print(sum)\n",
    "    "
   ]
  },
  {
   "cell_type": "code",
   "execution_count": 14,
   "id": "58cc3b02-b857-4a3c-a624-cbc1d8dd4a1c",
   "metadata": {},
   "outputs": [
    {
     "name": "stdout",
     "output_type": "stream",
     "text": [
      "107\n"
     ]
    }
   ],
   "source": [
    "x=2\n",
    "n=10\n",
    "sum=0\n",
    "for i in range(1,n+1,4):\n",
    "    sum=sum+pow(i,x)\n",
    "print(sum)"
   ]
  },
  {
   "cell_type": "code",
   "execution_count": null,
   "id": "395037c4-5e99-422a-a39f-01d1f6a58f29",
   "metadata": {},
   "outputs": [],
   "source": []
  }
 ],
 "metadata": {
  "kernelspec": {
   "display_name": "Python 3 (ipykernel)",
   "language": "python",
   "name": "python3"
  },
  "language_info": {
   "codemirror_mode": {
    "name": "ipython",
    "version": 3
   },
   "file_extension": ".py",
   "mimetype": "text/x-python",
   "name": "python",
   "nbconvert_exporter": "python",
   "pygments_lexer": "ipython3",
   "version": "3.11.7"
  }
 },
 "nbformat": 4,
 "nbformat_minor": 5
}
